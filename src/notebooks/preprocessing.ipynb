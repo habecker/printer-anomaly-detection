{
 "cells": [
  {
   "cell_type": "code",
   "execution_count": 1,
   "id": "1e86805a",
   "metadata": {},
   "outputs": [],
   "source": [
    "import json, gzip, glob\n",
    "import pandas as pd\n",
    "from pathlib import Path\n",
    "from dataclasses import dataclass\n",
    "from datetime import datetime\n",
    "from enum import StrEnum, auto\n",
    "from typing import List"
   ]
  },
  {
   "cell_type": "code",
   "execution_count": 2,
   "id": "6a800962",
   "metadata": {},
   "outputs": [],
   "source": [
    "NAME = Path('../../data/cable_clips/')\n",
    "SENSOR_TSV_FILE = next(NAME.glob('*.tsv.gz')) "
   ]
  },
  {
   "cell_type": "markdown",
   "id": "ca93db53",
   "metadata": {},
   "source": [
    "# Load sensordata"
   ]
  },
  {
   "cell_type": "code",
   "execution_count": 5,
   "id": "c20a4b4b",
   "metadata": {},
   "outputs": [],
   "source": [
    "class SensorType(StrEnum):\n",
    "    ACCELEROMETER = 'A'\n",
    "    MAGNETOMETER = 'M'\n",
    "    GYROSCOPE = 'G'\n",
    "    GAS = 'C',\n",
    "    HEATER = 'H',\n",
    "    EXTRUDER = 'E',\n",
    "    MOTION = 'M'\n",
    "\n",
    "@dataclass\n",
    "class IMUSensorData:\n",
    "    sensor_type: SensorType\n",
    "    datetime: datetime\n",
    "    x: float\n",
    "    y: float\n",
    "    z: float\n",
    "\n",
    "@dataclass\n",
    "class GasSensorData:\n",
    "    sensor_type: SensorType\n",
    "    datetime: datetime\n",
    "    value: int\n",
    "sensor_data: List[IMUSensorData | GasSensorData] = list()\n",
    "index = None\n",
    "with gzip.open(SENSOR_TSV_FILE, 'rb') as f:\n",
    "    for line in f:\n",
    "        data = line.decode('ascii')\n",
    "        data = data.split('\\t')\n",
    "        datetime_ = data[0]\n",
    "        datetime_ = datetime.fromisoformat(datetime_)\n",
    "        \n",
    "        sensor_type = SensorType(data[1])\n",
    "        \n",
    "        if sensor_type in {SensorType.ACCELEROMETER, SensorType.MAGNETOMETER, SensorType.GYROSCOPE}:\n",
    "            sensor_data.append(\n",
    "                IMUSensorData(\n",
    "                    sensor_type=sensor_type,\n",
    "                    datetime=datetime_,\n",
    "                    x = float(data[2]),\n",
    "                    y = float(data[3]),\n",
    "                    z = float(data[4])\n",
    "                )\n",
    "            )\n",
    "            pass\n",
    "        elif sensor_type == SensorType.GAS:\n",
    "            sensor_data.append(\n",
    "                GasSensorData(\n",
    "                    sensor_type=sensor_type,\n",
    "                    datetime=datetime_,\n",
    "                    value=float(data[2])\n",
    "                )\n",
    "            )\n",
    "        else:\n",
    "            raise Exception(\"Invalid sensor type\")"
   ]
  },
  {
   "cell_type": "markdown",
   "id": "bf6e9864",
   "metadata": {},
   "source": [
    "# Load printer_data"
   ]
  },
  {
   "cell_type": "code",
   "execution_count": 19,
   "id": "ec8349f3",
   "metadata": {},
   "outputs": [],
   "source": [
    "DATA_NAME = next(NAME.glob('*_klipper.json.gz'))\n",
    "DATA_NAME = DATA_NAME.name[:-len('.json.gz')]"
   ]
  },
  {
   "cell_type": "code",
   "execution_count": 21,
   "id": "6e7e8d1b",
   "metadata": {},
   "outputs": [],
   "source": [
    "index = None\n",
    "with gzip.open(f'{NAME / DATA_NAME}.index.gz', 'rb') as f:\n",
    "    index = f.read()\n",
    "    index = index.split('\\x03'.encode('ascii'))\n",
    "    index = filter(lambda i: len(i) > 0, index)\n",
    "    index = [json.loads(i) for i in index]"
   ]
  },
  {
   "cell_type": "code",
   "execution_count": 22,
   "id": "84db47b7",
   "metadata": {},
   "outputs": [],
   "source": [
    "data = None\n",
    "with gzip.open(f'{NAME / DATA_NAME}.json.gz', 'rb') as f:\n",
    "    data = f.read()\n",
    "    data = data.split('\\x03'.encode('ascii'))\n",
    "    data = filter(lambda i: len(i) > 0, data)\n",
    "    data = [json.loads(i) for i in data]"
   ]
  },
  {
   "cell_type": "code",
   "execution_count": 24,
   "id": "df32f641",
   "metadata": {},
   "outputs": [],
   "source": [
    "def get_field(field_name: str, data):\n",
    "    def _f(row):\n",
    "        if 'q' not in row or row['q'] != 'status':\n",
    "            return False\n",
    "        return field_name in row['params']['status']\n",
    "\n",
    "    def _m(row):\n",
    "        return row['params']['eventtime'], row['params']['status'][field_name]\n",
    "    \n",
    "    \n",
    "    return list(map(_m, filter(_f, data)))"
   ]
  },
  {
   "cell_type": "code",
   "execution_count": null,
   "id": "6fe86395",
   "metadata": {},
   "outputs": [],
   "source": [
    "@dataclass\n",
    "class TemperatureSensorData:\n",
    "    sensor_type: SensorType\n",
    "    datetime: datetime\n",
    "    temperature: float\n",
    "\n",
    "@dataclass\n",
    "class TargetData:\n",
    "    sensor_type: SensorType\n",
    "    datetime: datetime\n",
    "    target: float\n",
    "\n",
    "@dataclass\n",
    "class PowerSensorData:\n",
    "    sensor_type: SensorType\n",
    "    datetime: datetime\n",
    "    power: float"
   ]
  },
  {
   "cell_type": "code",
   "execution_count": 26,
   "id": "a5836a7a",
   "metadata": {},
   "outputs": [],
   "source": [
    "@dataclass\n",
    "class MotionSensorData:\n",
    "    sensor_type: SensorType\n",
    "    datetime: datetime\n",
    "    x: float\n",
    "    y: float\n",
    "    z: float\n",
    "    velocity: float\n",
    "\n",
    "@dataclass\n",
    "class MotionTargetData:\n",
    "    sensor_type: SensorType\n",
    "    datetime: datetime\n",
    "    x: float\n",
    "    y: float\n",
    "    z: float"
   ]
  },
  {
   "cell_type": "code",
   "execution_count": null,
   "id": "9b025d34",
   "metadata": {},
   "outputs": [],
   "source": []
  }
 ],
 "metadata": {
  "kernelspec": {
   "display_name": "Python 3 (ipykernel)",
   "language": "python",
   "name": "python3"
  },
  "language_info": {
   "codemirror_mode": {
    "name": "ipython",
    "version": 3
   },
   "file_extension": ".py",
   "mimetype": "text/x-python",
   "name": "python",
   "nbconvert_exporter": "python",
   "pygments_lexer": "ipython3",
   "version": "3.11.2"
  }
 },
 "nbformat": 4,
 "nbformat_minor": 5
}
