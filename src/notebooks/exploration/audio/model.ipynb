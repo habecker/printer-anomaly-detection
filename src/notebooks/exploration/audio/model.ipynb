{
 "cells": [
  {
   "cell_type": "code",
   "execution_count": 1,
   "metadata": {},
   "outputs": [
    {
     "name": "stderr",
     "output_type": "stream",
     "text": [
      "/Users/yannick.habecker/projects/personal/printer-anomaly-detection/.venv/lib/python3.10/site-packages/tensorflow_io/python/ops/__init__.py:98: UserWarning: unable to load libtensorflow_io_plugins.so: unable to open file: libtensorflow_io_plugins.so, from paths: ['/Users/yannick.habecker/projects/personal/printer-anomaly-detection/.venv/lib/python3.10/site-packages/tensorflow_io/python/ops/libtensorflow_io_plugins.so']\n",
      "caused by: [\"[Errno 2] The file to load file system plugin from does not exist.: '/Users/yannick.habecker/projects/personal/printer-anomaly-detection/.venv/lib/python3.10/site-packages/tensorflow_io/python/ops/libtensorflow_io_plugins.so'\"]\n",
      "  warnings.warn(f\"unable to load libtensorflow_io_plugins.so: {e}\")\n",
      "/Users/yannick.habecker/projects/personal/printer-anomaly-detection/.venv/lib/python3.10/site-packages/tensorflow_io/python/ops/__init__.py:104: UserWarning: file system plugins are not loaded: unable to open file: libtensorflow_io.so, from paths: ['/Users/yannick.habecker/projects/personal/printer-anomaly-detection/.venv/lib/python3.10/site-packages/tensorflow_io/python/ops/libtensorflow_io.so']\n",
      "caused by: [\"dlopen(/Users/yannick.habecker/projects/personal/printer-anomaly-detection/.venv/lib/python3.10/site-packages/tensorflow_io/python/ops/libtensorflow_io.so, 0x0006): tried: '/Users/yannick.habecker/projects/personal/printer-anomaly-detection/.venv/lib/python3.10/site-packages/tensorflow_io/python/ops/libtensorflow_io.so' (no such file), '/System/Volumes/Preboot/Cryptexes/OS/Users/yannick.habecker/projects/personal/printer-anomaly-detection/.venv/lib/python3.10/site-packages/tensorflow_io/python/ops/libtensorflow_io.so' (no such file), '/Users/yannick.habecker/projects/personal/printer-anomaly-detection/.venv/lib/python3.10/site-packages/tensorflow_io/python/ops/libtensorflow_io.so' (no such file)\"]\n",
      "  warnings.warn(f\"file system plugins are not loaded: {e}\")\n"
     ]
    }
   ],
   "source": [
    "import tensorflow as tf"
   ]
  },
  {
   "cell_type": "code",
   "execution_count": 136,
   "metadata": {},
   "outputs": [
    {
     "name": "stdout",
     "output_type": "stream",
     "text": [
      "Model: \"cae_57\"\n",
      "_________________________________________________________________\n",
      " Layer (type)                Output Shape              Param #   \n",
      "=================================================================\n",
      " sequential_162 (Sequential)  (None, 200)              757896    \n",
      "                                                                 \n",
      " sequential_163 (Sequential)  (None, 256, 256, 3)      954307    \n",
      "                                                                 \n",
      "=================================================================\n",
      "Total params: 1,712,203\n",
      "Trainable params: 1,711,307\n",
      "Non-trainable params: 896\n",
      "_________________________________________________________________\n"
     ]
    }
   ],
   "source": [
    "from typing import Tuple\n",
    "\n",
    "class CAE(tf.keras.Model):\n",
    "    \"\"\"Convolutional autoencoder.\"\"\"\n",
    "\n",
    "    def __init__(self, latent_dim: int = 200, input_shape: Tuple[int, int, int] = (256, 256, 1)):\n",
    "      super(CAE, self).__init__()\n",
    "      self.latent_dim = latent_dim\n",
    "      self._input_shape = input_shape\n",
    "\n",
    "      self.encode = tf.keras.Sequential(\n",
    "          [\n",
    "              tf.keras.layers.InputLayer(input_shape=self._input_shape),\n",
    "              tf.keras.layers.Conv2D(filters=32, kernel_size=3, strides=2, activation='relu'),\n",
    "              tf.keras.layers.BatchNormalization(),\n",
    "              tf.keras.layers.Conv2D(filters=64, kernel_size=3, strides=2, activation='relu'),\n",
    "              tf.keras.layers.BatchNormalization(),\n",
    "              tf.keras.layers.Conv2D(filters=64, kernel_size=3, strides=2, activation='relu'),\n",
    "              tf.keras.layers.BatchNormalization(),\n",
    "              tf.keras.layers.Conv2D(filters=64, kernel_size=3, strides=2, activation='relu'),\n",
    "              tf.keras.layers.BatchNormalization(),\n",
    "              tf.keras.layers.Conv2D(filters=64, kernel_size=3, strides=2, activation='relu'),\n",
    "              tf.keras.layers.Flatten(),\n",
    "              tf.keras.layers.Dense(latent_dim),\n",
    "          ]\n",
    "      )\n",
    "\n",
    "      self.decode = tf.keras.Sequential(\n",
    "          [\n",
    "              tf.keras.layers.InputLayer(input_shape=(latent_dim,)),\n",
    "              tf.keras.layers.Dense(units=4096, activation='relu'),\n",
    "              tf.keras.layers.Reshape(target_shape=(8, 8, 64)),\n",
    "              tf.keras.layers.Conv2DTranspose(filters=64, kernel_size=3, strides=2, padding='same', activation='relu'),\n",
    "              tf.keras.layers.BatchNormalization(),\n",
    "              tf.keras.layers.Conv2DTranspose(filters=64, kernel_size=3, strides=2, padding='same', activation='relu'),\n",
    "              tf.keras.layers.BatchNormalization(),\n",
    "              tf.keras.layers.Conv2DTranspose(filters=64, kernel_size=3, strides=2, padding='same', activation='relu'),\n",
    "              tf.keras.layers.BatchNormalization(),\n",
    "              tf.keras.layers.Conv2DTranspose(filters=32, kernel_size=3, strides=2, padding='same', activation='relu'),\n",
    "              tf.keras.layers.BatchNormalization(),\n",
    "              tf.keras.layers.Conv2DTranspose(filters=3, kernel_size=3, strides=2, padding='same', activation='sigmoid'),\n",
    "          ]\n",
    "      )\n",
    "\n",
    "    def call(self, inputs, training=None, mask=None):\n",
    "      encoded = self.encode(inputs)\n",
    "      return self.decode(encoded)\n",
    "\n",
    "\n",
    "model = CAE()\n",
    "model.build(input_shape=(None, 256, 256, 1))\n",
    "model.summary()"
   ]
  },
  {
   "cell_type": "code",
   "execution_count": null,
   "metadata": {},
   "outputs": [],
   "source": []
  }
 ],
 "metadata": {
  "kernelspec": {
   "display_name": ".venv",
   "language": "python",
   "name": "python3"
  },
  "language_info": {
   "codemirror_mode": {
    "name": "ipython",
    "version": 3
   },
   "file_extension": ".py",
   "mimetype": "text/x-python",
   "name": "python",
   "nbconvert_exporter": "python",
   "pygments_lexer": "ipython3",
   "version": "3.10.12"
  },
  "orig_nbformat": 4
 },
 "nbformat": 4,
 "nbformat_minor": 2
}
