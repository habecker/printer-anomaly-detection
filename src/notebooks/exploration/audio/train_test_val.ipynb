{
 "cells": [
  {
   "cell_type": "code",
   "execution_count": 2,
   "metadata": {},
   "outputs": [],
   "source": [
    "%load_ext autoreload\n",
    "%autoreload 2\n",
    "%matplotlib inline"
   ]
  },
  {
   "cell_type": "code",
   "execution_count": 3,
   "metadata": {},
   "outputs": [
    {
     "name": "stderr",
     "output_type": "stream",
     "text": [
      "2023-06-20 23:03:13.377158: I tensorflow/core/platform/cpu_feature_guard.cc:182] This TensorFlow binary is optimized to use available CPU instructions in performance-critical operations.\n",
      "To enable the following instructions: AVX2 FMA, in other operations, rebuild TensorFlow with the appropriate compiler flags.\n",
      "2023-06-20 23:03:14.022539: W tensorflow/compiler/tf2tensorrt/utils/py_utils.cc:38] TF-TRT Warning: Could not find TensorRT\n"
     ]
    }
   ],
   "source": [
    "from printer_anomaly_detection.dataset.audio import get_audio_duration, get_recording_time\n",
    "from pathlib import Path"
   ]
  },
  {
   "cell_type": "code",
   "execution_count": 4,
   "metadata": {},
   "outputs": [],
   "source": [
    "dataset_path = Path('../../../../datasets/prints/')\n",
    "assert dataset_path.exists()"
   ]
  },
  {
   "cell_type": "code",
   "execution_count": 5,
   "metadata": {},
   "outputs": [
    {
     "name": "stderr",
     "output_type": "stream",
     "text": [
      "/home/y2g/projects/personal/printer-anomaly-detection/src/printer_anomaly_detection/dataset/audio.py:30: FutureWarning: get_duration() keyword argument 'filename' has been renamed to 'path' in version 0.10.0.\n",
      "\tThis alias will be removed in version 1.0.\n",
      "  return librosa.get_duration(filename=path.as_posix())\n",
      "/home/y2g/projects/personal/printer-anomaly-detection/src/printer_anomaly_detection/dataset/audio.py:30: FutureWarning: PySoundFile failed. Trying audioread instead.\n",
      "\tAudioread support is deprecated in librosa 0.10.0 and will be removed in version 1.0.\n",
      "  return librosa.get_duration(filename=path.as_posix())\n",
      "/home/y2g/projects/personal/printer-anomaly-detection/src/printer_anomaly_detection/dataset/audio.py:30: FutureWarning: get_duration() keyword argument 'filename' has been renamed to 'path' in version 0.10.0.\n",
      "\tThis alias will be removed in version 1.0.\n",
      "  return librosa.get_duration(filename=path.as_posix())\n",
      "/home/y2g/projects/personal/printer-anomaly-detection/src/printer_anomaly_detection/dataset/audio.py:30: FutureWarning: PySoundFile failed. Trying audioread instead.\n",
      "\tAudioread support is deprecated in librosa 0.10.0 and will be removed in version 1.0.\n",
      "  return librosa.get_duration(filename=path.as_posix())\n",
      "/home/y2g/projects/personal/printer-anomaly-detection/src/printer_anomaly_detection/dataset/audio.py:30: FutureWarning: get_duration() keyword argument 'filename' has been renamed to 'path' in version 0.10.0.\n",
      "\tThis alias will be removed in version 1.0.\n",
      "  return librosa.get_duration(filename=path.as_posix())\n",
      "/home/y2g/projects/personal/printer-anomaly-detection/src/printer_anomaly_detection/dataset/audio.py:30: FutureWarning: PySoundFile failed. Trying audioread instead.\n",
      "\tAudioread support is deprecated in librosa 0.10.0 and will be removed in version 1.0.\n",
      "  return librosa.get_duration(filename=path.as_posix())\n",
      "/home/y2g/projects/personal/printer-anomaly-detection/src/printer_anomaly_detection/dataset/audio.py:30: FutureWarning: get_duration() keyword argument 'filename' has been renamed to 'path' in version 0.10.0.\n",
      "\tThis alias will be removed in version 1.0.\n",
      "  return librosa.get_duration(filename=path.as_posix())\n",
      "/home/y2g/projects/personal/printer-anomaly-detection/src/printer_anomaly_detection/dataset/audio.py:30: FutureWarning: PySoundFile failed. Trying audioread instead.\n",
      "\tAudioread support is deprecated in librosa 0.10.0 and will be removed in version 1.0.\n",
      "  return librosa.get_duration(filename=path.as_posix())\n",
      "/home/y2g/projects/personal/printer-anomaly-detection/src/printer_anomaly_detection/dataset/audio.py:30: FutureWarning: get_duration() keyword argument 'filename' has been renamed to 'path' in version 0.10.0.\n",
      "\tThis alias will be removed in version 1.0.\n",
      "  return librosa.get_duration(filename=path.as_posix())\n",
      "/home/y2g/projects/personal/printer-anomaly-detection/src/printer_anomaly_detection/dataset/audio.py:30: FutureWarning: PySoundFile failed. Trying audioread instead.\n",
      "\tAudioread support is deprecated in librosa 0.10.0 and will be removed in version 1.0.\n",
      "  return librosa.get_duration(filename=path.as_posix())\n",
      "/home/y2g/projects/personal/printer-anomaly-detection/src/printer_anomaly_detection/dataset/audio.py:30: FutureWarning: get_duration() keyword argument 'filename' has been renamed to 'path' in version 0.10.0.\n",
      "\tThis alias will be removed in version 1.0.\n",
      "  return librosa.get_duration(filename=path.as_posix())\n",
      "/home/y2g/projects/personal/printer-anomaly-detection/src/printer_anomaly_detection/dataset/audio.py:30: FutureWarning: PySoundFile failed. Trying audioread instead.\n",
      "\tAudioread support is deprecated in librosa 0.10.0 and will be removed in version 1.0.\n",
      "  return librosa.get_duration(filename=path.as_posix())\n",
      "/home/y2g/projects/personal/printer-anomaly-detection/src/printer_anomaly_detection/dataset/audio.py:30: FutureWarning: get_duration() keyword argument 'filename' has been renamed to 'path' in version 0.10.0.\n",
      "\tThis alias will be removed in version 1.0.\n",
      "  return librosa.get_duration(filename=path.as_posix())\n",
      "/home/y2g/projects/personal/printer-anomaly-detection/src/printer_anomaly_detection/dataset/audio.py:30: FutureWarning: PySoundFile failed. Trying audioread instead.\n",
      "\tAudioread support is deprecated in librosa 0.10.0 and will be removed in version 1.0.\n",
      "  return librosa.get_duration(filename=path.as_posix())\n",
      "/home/y2g/projects/personal/printer-anomaly-detection/src/printer_anomaly_detection/dataset/audio.py:30: FutureWarning: get_duration() keyword argument 'filename' has been renamed to 'path' in version 0.10.0.\n",
      "\tThis alias will be removed in version 1.0.\n",
      "  return librosa.get_duration(filename=path.as_posix())\n",
      "/home/y2g/projects/personal/printer-anomaly-detection/src/printer_anomaly_detection/dataset/audio.py:30: FutureWarning: PySoundFile failed. Trying audioread instead.\n",
      "\tAudioread support is deprecated in librosa 0.10.0 and will be removed in version 1.0.\n",
      "  return librosa.get_duration(filename=path.as_posix())\n",
      "/home/y2g/projects/personal/printer-anomaly-detection/src/printer_anomaly_detection/dataset/audio.py:30: FutureWarning: get_duration() keyword argument 'filename' has been renamed to 'path' in version 0.10.0.\n",
      "\tThis alias will be removed in version 1.0.\n",
      "  return librosa.get_duration(filename=path.as_posix())\n",
      "/home/y2g/projects/personal/printer-anomaly-detection/src/printer_anomaly_detection/dataset/audio.py:30: FutureWarning: PySoundFile failed. Trying audioread instead.\n",
      "\tAudioread support is deprecated in librosa 0.10.0 and will be removed in version 1.0.\n",
      "  return librosa.get_duration(filename=path.as_posix())\n",
      "/home/y2g/projects/personal/printer-anomaly-detection/src/printer_anomaly_detection/dataset/audio.py:30: FutureWarning: get_duration() keyword argument 'filename' has been renamed to 'path' in version 0.10.0.\n",
      "\tThis alias will be removed in version 1.0.\n",
      "  return librosa.get_duration(filename=path.as_posix())\n",
      "/home/y2g/projects/personal/printer-anomaly-detection/src/printer_anomaly_detection/dataset/audio.py:30: FutureWarning: PySoundFile failed. Trying audioread instead.\n",
      "\tAudioread support is deprecated in librosa 0.10.0 and will be removed in version 1.0.\n",
      "  return librosa.get_duration(filename=path.as_posix())\n",
      "/home/y2g/projects/personal/printer-anomaly-detection/src/printer_anomaly_detection/dataset/audio.py:30: FutureWarning: get_duration() keyword argument 'filename' has been renamed to 'path' in version 0.10.0.\n",
      "\tThis alias will be removed in version 1.0.\n",
      "  return librosa.get_duration(filename=path.as_posix())\n",
      "/home/y2g/projects/personal/printer-anomaly-detection/src/printer_anomaly_detection/dataset/audio.py:30: FutureWarning: PySoundFile failed. Trying audioread instead.\n",
      "\tAudioread support is deprecated in librosa 0.10.0 and will be removed in version 1.0.\n",
      "  return librosa.get_duration(filename=path.as_posix())\n",
      "/home/y2g/projects/personal/printer-anomaly-detection/src/printer_anomaly_detection/dataset/audio.py:30: FutureWarning: get_duration() keyword argument 'filename' has been renamed to 'path' in version 0.10.0.\n",
      "\tThis alias will be removed in version 1.0.\n",
      "  return librosa.get_duration(filename=path.as_posix())\n",
      "/home/y2g/projects/personal/printer-anomaly-detection/src/printer_anomaly_detection/dataset/audio.py:30: FutureWarning: PySoundFile failed. Trying audioread instead.\n",
      "\tAudioread support is deprecated in librosa 0.10.0 and will be removed in version 1.0.\n",
      "  return librosa.get_duration(filename=path.as_posix())\n",
      "/home/y2g/projects/personal/printer-anomaly-detection/src/printer_anomaly_detection/dataset/audio.py:30: FutureWarning: get_duration() keyword argument 'filename' has been renamed to 'path' in version 0.10.0.\n",
      "\tThis alias will be removed in version 1.0.\n",
      "  return librosa.get_duration(filename=path.as_posix())\n",
      "/home/y2g/projects/personal/printer-anomaly-detection/src/printer_anomaly_detection/dataset/audio.py:30: FutureWarning: PySoundFile failed. Trying audioread instead.\n",
      "\tAudioread support is deprecated in librosa 0.10.0 and will be removed in version 1.0.\n",
      "  return librosa.get_duration(filename=path.as_posix())\n",
      "/home/y2g/projects/personal/printer-anomaly-detection/src/printer_anomaly_detection/dataset/audio.py:30: FutureWarning: get_duration() keyword argument 'filename' has been renamed to 'path' in version 0.10.0.\n",
      "\tThis alias will be removed in version 1.0.\n",
      "  return librosa.get_duration(filename=path.as_posix())\n",
      "/home/y2g/projects/personal/printer-anomaly-detection/src/printer_anomaly_detection/dataset/audio.py:30: FutureWarning: PySoundFile failed. Trying audioread instead.\n",
      "\tAudioread support is deprecated in librosa 0.10.0 and will be removed in version 1.0.\n",
      "  return librosa.get_duration(filename=path.as_posix())\n",
      "/home/y2g/projects/personal/printer-anomaly-detection/src/printer_anomaly_detection/dataset/audio.py:30: FutureWarning: get_duration() keyword argument 'filename' has been renamed to 'path' in version 0.10.0.\n",
      "\tThis alias will be removed in version 1.0.\n",
      "  return librosa.get_duration(filename=path.as_posix())\n",
      "/home/y2g/projects/personal/printer-anomaly-detection/src/printer_anomaly_detection/dataset/audio.py:30: FutureWarning: PySoundFile failed. Trying audioread instead.\n",
      "\tAudioread support is deprecated in librosa 0.10.0 and will be removed in version 1.0.\n",
      "  return librosa.get_duration(filename=path.as_posix())\n",
      "/home/y2g/projects/personal/printer-anomaly-detection/src/printer_anomaly_detection/dataset/audio.py:30: FutureWarning: get_duration() keyword argument 'filename' has been renamed to 'path' in version 0.10.0.\n",
      "\tThis alias will be removed in version 1.0.\n",
      "  return librosa.get_duration(filename=path.as_posix())\n",
      "/home/y2g/projects/personal/printer-anomaly-detection/src/printer_anomaly_detection/dataset/audio.py:30: FutureWarning: PySoundFile failed. Trying audioread instead.\n",
      "\tAudioread support is deprecated in librosa 0.10.0 and will be removed in version 1.0.\n",
      "  return librosa.get_duration(filename=path.as_posix())\n",
      "/home/y2g/projects/personal/printer-anomaly-detection/src/printer_anomaly_detection/dataset/audio.py:30: FutureWarning: get_duration() keyword argument 'filename' has been renamed to 'path' in version 0.10.0.\n",
      "\tThis alias will be removed in version 1.0.\n",
      "  return librosa.get_duration(filename=path.as_posix())\n",
      "/home/y2g/projects/personal/printer-anomaly-detection/src/printer_anomaly_detection/dataset/audio.py:30: FutureWarning: PySoundFile failed. Trying audioread instead.\n",
      "\tAudioread support is deprecated in librosa 0.10.0 and will be removed in version 1.0.\n",
      "  return librosa.get_duration(filename=path.as_posix())\n",
      "/home/y2g/projects/personal/printer-anomaly-detection/src/printer_anomaly_detection/dataset/audio.py:30: FutureWarning: get_duration() keyword argument 'filename' has been renamed to 'path' in version 0.10.0.\n",
      "\tThis alias will be removed in version 1.0.\n",
      "  return librosa.get_duration(filename=path.as_posix())\n",
      "/home/y2g/projects/personal/printer-anomaly-detection/src/printer_anomaly_detection/dataset/audio.py:30: FutureWarning: PySoundFile failed. Trying audioread instead.\n",
      "\tAudioread support is deprecated in librosa 0.10.0 and will be removed in version 1.0.\n",
      "  return librosa.get_duration(filename=path.as_posix())\n",
      "/home/y2g/projects/personal/printer-anomaly-detection/src/printer_anomaly_detection/dataset/audio.py:30: FutureWarning: get_duration() keyword argument 'filename' has been renamed to 'path' in version 0.10.0.\n",
      "\tThis alias will be removed in version 1.0.\n",
      "  return librosa.get_duration(filename=path.as_posix())\n",
      "/home/y2g/projects/personal/printer-anomaly-detection/src/printer_anomaly_detection/dataset/audio.py:30: FutureWarning: PySoundFile failed. Trying audioread instead.\n",
      "\tAudioread support is deprecated in librosa 0.10.0 and will be removed in version 1.0.\n",
      "  return librosa.get_duration(filename=path.as_posix())\n",
      "/home/y2g/projects/personal/printer-anomaly-detection/src/printer_anomaly_detection/dataset/audio.py:30: FutureWarning: get_duration() keyword argument 'filename' has been renamed to 'path' in version 0.10.0.\n",
      "\tThis alias will be removed in version 1.0.\n",
      "  return librosa.get_duration(filename=path.as_posix())\n",
      "/home/y2g/projects/personal/printer-anomaly-detection/src/printer_anomaly_detection/dataset/audio.py:30: FutureWarning: PySoundFile failed. Trying audioread instead.\n",
      "\tAudioread support is deprecated in librosa 0.10.0 and will be removed in version 1.0.\n",
      "  return librosa.get_duration(filename=path.as_posix())\n",
      "/home/y2g/projects/personal/printer-anomaly-detection/src/printer_anomaly_detection/dataset/audio.py:30: FutureWarning: get_duration() keyword argument 'filename' has been renamed to 'path' in version 0.10.0.\n",
      "\tThis alias will be removed in version 1.0.\n",
      "  return librosa.get_duration(filename=path.as_posix())\n",
      "/home/y2g/projects/personal/printer-anomaly-detection/src/printer_anomaly_detection/dataset/audio.py:30: FutureWarning: PySoundFile failed. Trying audioread instead.\n",
      "\tAudioread support is deprecated in librosa 0.10.0 and will be removed in version 1.0.\n",
      "  return librosa.get_duration(filename=path.as_posix())\n",
      "/home/y2g/projects/personal/printer-anomaly-detection/src/printer_anomaly_detection/dataset/audio.py:30: FutureWarning: get_duration() keyword argument 'filename' has been renamed to 'path' in version 0.10.0.\n",
      "\tThis alias will be removed in version 1.0.\n",
      "  return librosa.get_duration(filename=path.as_posix())\n",
      "/home/y2g/projects/personal/printer-anomaly-detection/src/printer_anomaly_detection/dataset/audio.py:30: FutureWarning: PySoundFile failed. Trying audioread instead.\n",
      "\tAudioread support is deprecated in librosa 0.10.0 and will be removed in version 1.0.\n",
      "  return librosa.get_duration(filename=path.as_posix())\n",
      "/home/y2g/projects/personal/printer-anomaly-detection/src/printer_anomaly_detection/dataset/audio.py:30: FutureWarning: get_duration() keyword argument 'filename' has been renamed to 'path' in version 0.10.0.\n",
      "\tThis alias will be removed in version 1.0.\n",
      "  return librosa.get_duration(filename=path.as_posix())\n",
      "/home/y2g/projects/personal/printer-anomaly-detection/src/printer_anomaly_detection/dataset/audio.py:30: FutureWarning: PySoundFile failed. Trying audioread instead.\n",
      "\tAudioread support is deprecated in librosa 0.10.0 and will be removed in version 1.0.\n",
      "  return librosa.get_duration(filename=path.as_posix())\n",
      "/home/y2g/projects/personal/printer-anomaly-detection/src/printer_anomaly_detection/dataset/audio.py:30: FutureWarning: get_duration() keyword argument 'filename' has been renamed to 'path' in version 0.10.0.\n",
      "\tThis alias will be removed in version 1.0.\n",
      "  return librosa.get_duration(filename=path.as_posix())\n",
      "/home/y2g/projects/personal/printer-anomaly-detection/src/printer_anomaly_detection/dataset/audio.py:30: FutureWarning: PySoundFile failed. Trying audioread instead.\n",
      "\tAudioread support is deprecated in librosa 0.10.0 and will be removed in version 1.0.\n",
      "  return librosa.get_duration(filename=path.as_posix())\n"
     ]
    },
    {
     "name": "stdout",
     "output_type": "stream",
     "text": [
      "DatasetConfig(after=0001-01-01T00:00:00, before=2023-04-21T10:00:00, name='original', files=[FileDurationPair(file='logitech_cam_mount', duration=2187.4, recording_time=2023-04-18T20:09:44.973695), FileDurationPair(file='arducam_case_mount', duration=6096.3, recording_time=2023-04-18T18:04:26.302213), FileDurationPair(file='test', duration=11.8, recording_time=2023-04-17T19:23:34.904896), FileDurationPair(file='cable_clips', duration=5403.6, recording_time=2023-04-16T13:38:57.167432), FileDurationPair(file='cable_clips2', duration=3153.0, recording_time=2023-04-17T19:29:53.188516)])\n",
      "DatasetConfig(after=2023-04-21T10:00:00, before=2023-05-30T12:00:00, name='exhaust', files=[FileDurationPair(file='adj_earplug', duration=11160.7, recording_time=2023-04-24T17:33:30.833910), FileDurationPair(file='hinge_small', duration=6483.9, recording_time=2023-04-25T19:22:31.792299), FileDurationPair(file='lily_58_frame', duration=2607.5, recording_time=2023-04-26T18:21:01.485980), FileDurationPair(file='fisheye_adapter_hinges', duration=6418.6, recording_time=2023-05-06T19:11:26.423611), FileDurationPair(file='hinges_8', duration=1508.1, recording_time=2023-05-16T18:18:42.710489), FileDurationPair(file='test_getraenkehalter', duration=1266.3, recording_time=2023-04-24T20:41:33.333337), FileDurationPair(file='fisheye_adapter_2', duration=2412.3, recording_time=2023-05-06T17:42:29.271258), FileDurationPair(file='yarn_bowl', duration=20776.8, recording_time=2023-04-22T13:09:12.403673), FileDurationPair(file='led_and_zip_holder_v2', duration=1444.5, recording_time=2023-04-23T10:54:39.584740), FileDurationPair(file='hinges_9', duration=5324.5, recording_time=2023-05-16T18:55:23.011094), FileDurationPair(file='hinges_4', duration=3912.3, recording_time=2023-05-07T14:24:11.777327), FileDurationPair(file='led_and_zip_holder', duration=3173.8, recording_time=2023-04-22T19:07:11.621873), FileDurationPair(file='hinges_3', duration=14325.9, recording_time=2023-05-07T10:02:24.067182)])\n",
      "DatasetConfig(after=2023-05-30T12:00:00, before=9999-12-31T23:59:59.999999, name='direct_drive', files=[FileDurationPair(file='wallet_outer', duration=10669.3, recording_time=2023-06-03T19:27:27.591347), FileDurationPair(file='wallet_inners', duration=6167.5, recording_time=2023-06-03T17:30:05.670784), FileDurationPair(file='whistle', duration=1581.1, recording_time=2023-06-01T11:35:17.231882), FileDurationPair(file='tunisian_crochet_4', duration=3687.6, recording_time=2023-06-09T15:01:15.213596), FileDurationPair(file='hinges_12', duration=1926.8, recording_time=2023-06-01T12:42:47.701030), FileDurationPair(file='hinges_11', duration=1651.2, recording_time=2023-06-01T12:05:00.432504), FileDurationPair(file='hinges_13', duration=6937.7, recording_time=2023-06-01T19:41:36.146372), FileDurationPair(file='tunisian_crochet_2', duration=2499.3, recording_time=2023-06-03T14:50:20.065731)])\n"
     ]
    },
    {
     "name": "stderr",
     "output_type": "stream",
     "text": [
      "/home/y2g/projects/personal/printer-anomaly-detection/src/printer_anomaly_detection/dataset/audio.py:30: FutureWarning: get_duration() keyword argument 'filename' has been renamed to 'path' in version 0.10.0.\n",
      "\tThis alias will be removed in version 1.0.\n",
      "  return librosa.get_duration(filename=path.as_posix())\n",
      "/home/y2g/projects/personal/printer-anomaly-detection/src/printer_anomaly_detection/dataset/audio.py:30: FutureWarning: PySoundFile failed. Trying audioread instead.\n",
      "\tAudioread support is deprecated in librosa 0.10.0 and will be removed in version 1.0.\n",
      "  return librosa.get_duration(filename=path.as_posix())\n",
      "/home/y2g/projects/personal/printer-anomaly-detection/src/printer_anomaly_detection/dataset/audio.py:30: FutureWarning: get_duration() keyword argument 'filename' has been renamed to 'path' in version 0.10.0.\n",
      "\tThis alias will be removed in version 1.0.\n",
      "  return librosa.get_duration(filename=path.as_posix())\n",
      "/home/y2g/projects/personal/printer-anomaly-detection/src/printer_anomaly_detection/dataset/audio.py:30: FutureWarning: PySoundFile failed. Trying audioread instead.\n",
      "\tAudioread support is deprecated in librosa 0.10.0 and will be removed in version 1.0.\n",
      "  return librosa.get_duration(filename=path.as_posix())\n"
     ]
    }
   ],
   "source": [
    "from collections import namedtuple\n",
    "from dataclasses import dataclass\n",
    "from typing import List\n",
    "import dataclass_csv\n",
    "from printer_anomaly_detection.dataset.audio import Upgrade, get_audio_dataset_files, get_recording_time\n",
    "from printer_anomaly_detection.dataset.domain import Datetime\n",
    "from printer_anomaly_detection.preprocessing.data import Outcome\n",
    "\n",
    "\n",
    "with open(dataset_path / 'upgrades.csv', 'r', encoding='utf-8') as f:\n",
    "    upgrades = list(sorted(dataclass_csv.DataclassReader(f, Upgrade), key= lambda u: u.when))\n",
    "\n",
    "FileDurationPair = namedtuple('FileDurationPair', ['file', 'duration', 'recording_time'])\n",
    "\n",
    "@dataclass\n",
    "class DatasetConfig:\n",
    "    after: Datetime\n",
    "    before: Datetime\n",
    "    name: str\n",
    "    files: List[FileDurationPair]\n",
    "\n",
    "    @property\n",
    "    def duration(self):\n",
    "        return sum(map(lambda f: f.duration, self.files))\n",
    "\n",
    "configs = []\n",
    "\n",
    "last_upgrade = 'original'\n",
    "after = Datetime.min\n",
    "for upgrade in upgrades + [Upgrade('nothing', Datetime.max)]:\n",
    "    if 'audio' not in upgrade.effects:\n",
    "        continue\n",
    "    before = upgrade.when\n",
    "    number_of_successes = len(list(get_audio_dataset_files(dataset_path, after, before, {Outcome.SUCCESS})))\n",
    "    number_of_failures = len(list(get_audio_dataset_files(dataset_path, after, before, {Outcome.FAILURE})))\n",
    "\n",
    "    success_files = list(get_audio_dataset_files(dataset_path, after, before, {Outcome.SUCCESS}))\n",
    "    success_file_duration_pairs = [FileDurationPair(file.parent.name, get_audio_duration(file), get_recording_time(file.parent)) for file in success_files]\n",
    "    \n",
    "    configs.append(\n",
    "        DatasetConfig(\n",
    "            after=after,\n",
    "            before=before,\n",
    "            name=last_upgrade,\n",
    "            files=success_file_duration_pairs\n",
    "        )\n",
    "    )\n",
    "    after = before\n",
    "    last_upgrade = upgrade.what\n",
    "\n",
    "\n",
    "for config in configs:\n",
    "    print(config)"
   ]
  },
  {
   "cell_type": "code",
   "execution_count": 24,
   "metadata": {},
   "outputs": [],
   "source": [
    "train, test = 0.8, 0.2"
   ]
  },
  {
   "cell_type": "code",
   "execution_count": 25,
   "metadata": {},
   "outputs": [
    {
     "name": "stdout",
     "output_type": "stream",
     "text": [
      "name=original\n",
      "train_length=8568.400000000001\n",
      "test_length=8283.7\n",
      "name=exhaust\n",
      "train_length=55744.40000000001\n",
      "test_length=25070.800000000003\n",
      "name=direct_drive\n",
      "train_length=20763.6\n",
      "test_length=14356.9\n"
     ]
    }
   ],
   "source": [
    "# (name, split, before, after)\n",
    "result = []\n",
    "\n",
    "for config in configs:\n",
    "    val_files = []\n",
    "    test_files = []\n",
    "    train_files = []\n",
    "\n",
    "    files = list(sorted(config.files, key=lambda f: f.recording_time, reverse=True))\n",
    "    total_duration = config.duration\n",
    "\n",
    "    while sum(map(lambda f: f.duration, test_files)) < total_duration * test:\n",
    "        test_files.append(files.pop(0))\n",
    "\n",
    "    train_files = files\n",
    "    print(f'name={config.name}')\n",
    "    print(f'train_length={sum(map(lambda f: f.duration, train_files))}')\n",
    "    print(f'test_length={sum(map(lambda f: f.duration, test_files))}')\n",
    "    #print(f'val_length={sum(map(lambda f: f.duration, val_files))}')\n",
    "\n",
    "    result.extend([\n",
    "        (config.name, 'train', train_files[0].recording_time, train_files[-1].recording_time + 1),\n",
    "        (config.name, 'test', test_files[0].recording_time, test_files[-1].recording_time + 1),\n",
    "    #    (config.name, 'val', val_files[0].recording_time, val_files[-1].recording_time + 1)\n",
    "    ])"
   ]
  },
  {
   "cell_type": "code",
   "execution_count": 26,
   "metadata": {},
   "outputs": [],
   "source": [
    "import csv\n",
    "\n",
    "with open(dataset_path / 'datasets.csv', 'w', newline='') as f:\n",
    "    writer = csv.writer(f)\n",
    "    writer.writerow(['name', 'split', 'before', 'after'])\n",
    "    writer.writerows(result)"
   ]
  },
  {
   "cell_type": "code",
   "execution_count": 27,
   "metadata": {},
   "outputs": [],
   "source": [
    "from printer_anomaly_detection.dataset.audio import load_audio_dataset_split, Split"
   ]
  },
  {
   "cell_type": "code",
   "execution_count": 10,
   "metadata": {},
   "outputs": [
    {
     "data": {
      "text/plain": [
       "'TRAIN'"
      ]
     },
     "execution_count": 10,
     "metadata": {},
     "output_type": "execute_result"
    }
   ],
   "source": [
    "Split.TRAIN.name"
   ]
  },
  {
   "cell_type": "code",
   "execution_count": 11,
   "metadata": {},
   "outputs": [
    {
     "name": "stderr",
     "output_type": "stream",
     "text": [
      "2023-06-20 23:03:17.874228: I tensorflow/compiler/xla/stream_executor/cuda/cuda_gpu_executor.cc:996] successful NUMA node read from SysFS had negative value (-1), but there must be at least one NUMA node, so returning NUMA node zero. See more at https://github.com/torvalds/linux/blob/v6.0/Documentation/ABI/testing/sysfs-bus-pci#L344-L355\n",
      "2023-06-20 23:03:17.889725: I tensorflow/compiler/xla/stream_executor/cuda/cuda_gpu_executor.cc:996] successful NUMA node read from SysFS had negative value (-1), but there must be at least one NUMA node, so returning NUMA node zero. See more at https://github.com/torvalds/linux/blob/v6.0/Documentation/ABI/testing/sysfs-bus-pci#L344-L355\n",
      "2023-06-20 23:03:17.889935: I tensorflow/compiler/xla/stream_executor/cuda/cuda_gpu_executor.cc:996] successful NUMA node read from SysFS had negative value (-1), but there must be at least one NUMA node, so returning NUMA node zero. See more at https://github.com/torvalds/linux/blob/v6.0/Documentation/ABI/testing/sysfs-bus-pci#L344-L355\n",
      "2023-06-20 23:03:17.891177: I tensorflow/compiler/xla/stream_executor/cuda/cuda_gpu_executor.cc:996] successful NUMA node read from SysFS had negative value (-1), but there must be at least one NUMA node, so returning NUMA node zero. See more at https://github.com/torvalds/linux/blob/v6.0/Documentation/ABI/testing/sysfs-bus-pci#L344-L355\n",
      "2023-06-20 23:03:17.891346: I tensorflow/compiler/xla/stream_executor/cuda/cuda_gpu_executor.cc:996] successful NUMA node read from SysFS had negative value (-1), but there must be at least one NUMA node, so returning NUMA node zero. See more at https://github.com/torvalds/linux/blob/v6.0/Documentation/ABI/testing/sysfs-bus-pci#L344-L355\n",
      "2023-06-20 23:03:17.891499: I tensorflow/compiler/xla/stream_executor/cuda/cuda_gpu_executor.cc:996] successful NUMA node read from SysFS had negative value (-1), but there must be at least one NUMA node, so returning NUMA node zero. See more at https://github.com/torvalds/linux/blob/v6.0/Documentation/ABI/testing/sysfs-bus-pci#L344-L355\n",
      "2023-06-20 23:03:18.317207: I tensorflow/compiler/xla/stream_executor/cuda/cuda_gpu_executor.cc:996] successful NUMA node read from SysFS had negative value (-1), but there must be at least one NUMA node, so returning NUMA node zero. See more at https://github.com/torvalds/linux/blob/v6.0/Documentation/ABI/testing/sysfs-bus-pci#L344-L355\n",
      "2023-06-20 23:03:18.317388: I tensorflow/compiler/xla/stream_executor/cuda/cuda_gpu_executor.cc:996] successful NUMA node read from SysFS had negative value (-1), but there must be at least one NUMA node, so returning NUMA node zero. See more at https://github.com/torvalds/linux/blob/v6.0/Documentation/ABI/testing/sysfs-bus-pci#L344-L355\n",
      "2023-06-20 23:03:18.317536: I tensorflow/compiler/xla/stream_executor/cuda/cuda_gpu_executor.cc:996] successful NUMA node read from SysFS had negative value (-1), but there must be at least one NUMA node, so returning NUMA node zero. See more at https://github.com/torvalds/linux/blob/v6.0/Documentation/ABI/testing/sysfs-bus-pci#L344-L355\n",
      "2023-06-20 23:03:18.317663: I tensorflow/core/common_runtime/gpu/gpu_device.cc:1635] Created device /job:localhost/replica:0/task:0/device:GPU:0 with 6622 MB memory:  -> device: 0, name: NVIDIA GeForce RTX 2070, pci bus id: 0000:2d:00.0, compute capability: 7.5\n"
     ]
    }
   ],
   "source": [
    "dataset = load_audio_dataset_split(dataset_path, 'original', Split.TEST, 256, 64)"
   ]
  },
  {
   "cell_type": "code",
   "execution_count": 12,
   "metadata": {},
   "outputs": [],
   "source": [
    "from printer_anomaly_detection.dataset.audio import load_audio_dataset_split, Split\n"
   ]
  },
  {
   "cell_type": "code",
   "execution_count": 34,
   "metadata": {},
   "outputs": [],
   "source": [
    "dataset = load_audio_dataset_split(dataset_path, 'original', Split.TEST, window_size=256, step_size=32)"
   ]
  },
  {
   "cell_type": "code",
   "execution_count": 35,
   "metadata": {},
   "outputs": [
    {
     "name": "stderr",
     "output_type": "stream",
     "text": [
      "2023-06-20 23:08:11.097572: I tensorflow/core/common_runtime/executor.cc:1197] [/device:CPU:0] (DEBUG INFO) Executor start aborting (this does not indicate an error and you can ignore this message): INVALID_ARGUMENT: You must feed a value for placeholder tensor 'Placeholder/_0' with dtype int32\n",
      "\t [[{{node Placeholder/_0}}]]\n"
     ]
    },
    {
     "data": {
      "text/plain": [
       "1000"
      ]
     },
     "execution_count": 35,
     "metadata": {},
     "output_type": "execute_result"
    },
    {
     "ename": "",
     "evalue": "",
     "output_type": "error",
     "traceback": [
      "\u001b[1;31mThe Kernel crashed while executing code in the the current cell or a previous cell. Please review the code in the cell(s) to identify a possible cause of the failure. Click <a href='https://aka.ms/vscodeJupyterKernelCrash'>here</a> for more info. View Jupyter <a href='command:jupyter.viewOutput'>log</a> for further details."
     ]
    }
   ],
   "source": [
    "len(list(dataset.take(1000)))"
   ]
  }
 ],
 "metadata": {
  "kernelspec": {
   "display_name": ".venv",
   "language": "python",
   "name": "python3"
  },
  "language_info": {
   "codemirror_mode": {
    "name": "ipython",
    "version": 3
   },
   "file_extension": ".py",
   "mimetype": "text/x-python",
   "name": "python",
   "nbconvert_exporter": "python",
   "pygments_lexer": "ipython3",
   "version": "3.10.12"
  },
  "orig_nbformat": 4
 },
 "nbformat": 4,
 "nbformat_minor": 2
}
