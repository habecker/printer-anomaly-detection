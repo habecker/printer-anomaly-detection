{
 "cells": [
  {
   "cell_type": "code",
   "execution_count": 2,
   "id": "035268a2",
   "metadata": {},
   "outputs": [],
   "source": [
    "import json, gzip, glob\n",
    "import pandas as pd\n",
    "from pathlib import Path\n",
    "from dataclasses import dataclass\n",
    "from datetime import datetime\n",
    "from enum import StrEnum, auto\n",
    "from typing import List\n"
   ]
  },
  {
   "cell_type": "code",
   "execution_count": 3,
   "id": "54d8c85d",
   "metadata": {},
   "outputs": [],
   "source": [
    "NAME = Path('../../data/yarn_bowl/')\n",
    "SENSOR_TSV_FILE = next(NAME.glob('*.tsv.gz')) "
   ]
  },
  {
   "cell_type": "code",
   "execution_count": 4,
   "id": "d91c6ed1",
   "metadata": {},
   "outputs": [],
   "source": [
    "class SensorType(StrEnum):\n",
    "    ACCELEROMETER = 'A'\n",
    "    MAGNETOMETER = 'M'\n",
    "    GYROSCOPE = 'G'\n",
    "    GAS = 'C'\n",
    "\n",
    "@dataclass\n",
    "class IMUSensorData:\n",
    "    sensor_type: SensorType\n",
    "    datetime: datetime\n",
    "    x: float\n",
    "    y: float\n",
    "    z: float\n",
    "\n",
    "@dataclass\n",
    "class GasSensorData:\n",
    "    sensor_type: SensorType\n",
    "    datetime: datetime\n",
    "    value: int\n"
   ]
  },
  {
   "cell_type": "code",
   "execution_count": null,
   "id": "48b92fea",
   "metadata": {},
   "outputs": [],
   "source": [
    "sensor_data: List[IMUSensorData | GasSensorData] = list()\n",
    "\n",
    "index = None\n",
    "with gzip.open(SENSOR_TSV_FILE, 'rb') as f:\n",
    "    for line in f:\n",
    "        data = line.decode('ascii')\n",
    "        data = data.split('\\t')\n",
    "        datetime_ = data[0]\n",
    "        datetime_ = datetime.fromisoformat(datetime_)\n",
    "        \n",
    "        sensor_type = SensorType(data[1])\n",
    "        \n",
    "        if sensor_type in {SensorType.ACCELEROMETER, SensorType.MAGNETOMETER, SensorType.GYROSCOPE}:\n",
    "            sensor_data.append(\n",
    "                IMUSensorData(\n",
    "                    sensor_type=sensor_type,\n",
    "                    datetime=datetime_,\n",
    "                    x = float(data[2]),\n",
    "                    y = float(data[3]),\n",
    "                    z = float(data[4])\n",
    "                )\n",
    "            )\n",
    "            pass\n",
    "        elif sensor_type == SensorType.GAS:\n",
    "            sensor_data.append(\n",
    "                GasSensorData(\n",
    "                    sensor_type=sensor_type,\n",
    "                    datetime=datetime_,\n",
    "                    value=float(data[2])\n",
    "                )\n",
    "            )\n",
    "        else:\n",
    "            raise Exception(\"Invalid sensor type\")"
   ]
  },
  {
   "cell_type": "code",
   "execution_count": null,
   "id": "39dd48c8",
   "metadata": {},
   "outputs": [],
   "source": [
    "accelerometer_data = list(filter(lambda d: d.sensor_type == SensorType.ACCELEROMETER, sensor_data))\n",
    "magnetometer_data = list(filter(lambda d: d.sensor_type == SensorType.MAGNETOMETER, sensor_data))\n",
    "gyroscope_data = list(filter(lambda d: d.sensor_type == SensorType.GYROSCOPE, sensor_data))\n",
    "gas_data = list(filter(lambda d: d.sensor_type == SensorType.GAS, sensor_data))"
   ]
  },
  {
   "cell_type": "code",
   "execution_count": null,
   "id": "a355f25b",
   "metadata": {},
   "outputs": [],
   "source": [
    "acc_df = pd.DataFrame(iter(accelerometer_data))\n",
    "pd.plotting.scatter_matrix(acc_df[['x', 'y', 'z']], figsize=(9, 9))"
   ]
  },
  {
   "cell_type": "code",
   "execution_count": null,
   "id": "44b82a17",
   "metadata": {},
   "outputs": [],
   "source": [
    "acc_df.plot(x='datetime', y=['x', 'y', 'z'])"
   ]
  },
  {
   "cell_type": "code",
   "execution_count": null,
   "id": "cc60be46",
   "metadata": {},
   "outputs": [],
   "source": [
    "mag_df = pd.DataFrame(iter(magnetometer_data))\n",
    "pd.plotting.scatter_matrix(mag_df[['x', 'y', 'z']], figsize=(9, 9))\n",
    "mag_df.plot(x='datetime', y=['x', 'y', 'z'])"
   ]
  },
  {
   "cell_type": "code",
   "execution_count": null,
   "id": "3a41393d",
   "metadata": {
    "scrolled": true
   },
   "outputs": [],
   "source": [
    "gyr_df = pd.DataFrame(iter(gyroscope_data))\n",
    "pd.plotting.scatter_matrix(gyr_df[['datetime', 'x', 'y', 'z']], figsize=(9, 9))\n",
    "gyr_df.plot(x='datetime', y=['x', 'y', 'z'])"
   ]
  },
  {
   "cell_type": "code",
   "execution_count": null,
   "id": "4c414eb2",
   "metadata": {},
   "outputs": [],
   "source": [
    "gas_df = pd.DataFrame(iter(gas_data))\n"
   ]
  },
  {
   "cell_type": "code",
   "execution_count": null,
   "id": "048fb5ae",
   "metadata": {},
   "outputs": [],
   "source": [
    "gas_df.plot(x='datetime', y='value')"
   ]
  }
 ],
 "metadata": {
  "kernelspec": {
   "display_name": "Python 3 (ipykernel)",
   "language": "python",
   "name": "python3"
  },
  "language_info": {
   "codemirror_mode": {
    "name": "ipython",
    "version": 3
   },
   "file_extension": ".py",
   "mimetype": "text/x-python",
   "name": "python",
   "nbconvert_exporter": "python",
   "pygments_lexer": "ipython3",
   "version": "3.11.2"
  }
 },
 "nbformat": 4,
 "nbformat_minor": 5
}
