{
 "cells": [
  {
   "cell_type": "code",
   "execution_count": 2,
   "id": "2dd57322-2462-430e-9a1a-a0ae3c4c1828",
   "metadata": {},
   "outputs": [],
   "source": [
    "from pathlib import Path\n",
    "import pandas as pd"
   ]
  },
  {
   "cell_type": "code",
   "execution_count": 24,
   "id": "ea52b56a-46f8-4b6c-8138-3d631d64e910",
   "metadata": {},
   "outputs": [],
   "source": [
    "DATASET = 'yarn_bowl'"
   ]
  },
  {
   "cell_type": "code",
   "execution_count": 65,
   "id": "dcaa51a8-b905-4ef2-b31c-d1c524274ade",
   "metadata": {},
   "outputs": [],
   "source": [
    "DATASETS_PATH = Path.cwd().parent.parent / 'datasets'\n",
    "DATASET_PATH = DATASETS_PATH / DATASET\n",
    "TARGET_FREQUENCY = 2# Hz"
   ]
  },
  {
   "cell_type": "code",
   "execution_count": 38,
   "id": "6d316d70-f274-4155-9502-fd6a2afdf8fa",
   "metadata": {},
   "outputs": [],
   "source": [
    "MCU_PATH = DATASET_PATH / 'mcu.csv.gz'\n",
    "HEATER_POWER_PATH = DATASET_PATH / 'heater_power.csv.gz'\n",
    "EXTRUDER_TEMPERATURE = DATASET_PATH / 'extruder_temperature.csv.gz'\n",
    "HEATER_TEMPERATURE = DATASET_PATH / 'heater_temperature.csv.gz'"
   ]
  },
  {
   "cell_type": "code",
   "execution_count": 63,
   "id": "7c53c4c6-d358-4d4d-b406-413280589188",
   "metadata": {},
   "outputs": [
    {
     "data": {
      "text/html": [
       "<div>\n",
       "<style scoped>\n",
       "    .dataframe tbody tr th:only-of-type {\n",
       "        vertical-align: middle;\n",
       "    }\n",
       "\n",
       "    .dataframe tbody tr th {\n",
       "        vertical-align: top;\n",
       "    }\n",
       "\n",
       "    .dataframe thead th {\n",
       "        text-align: right;\n",
       "    }\n",
       "</style>\n",
       "<table border=\"1\" class=\"dataframe\">\n",
       "  <thead>\n",
       "    <tr style=\"text-align: right;\">\n",
       "      <th></th>\n",
       "      <th>sensor_type</th>\n",
       "      <th>datetime</th>\n",
       "      <th>temperature</th>\n",
       "    </tr>\n",
       "  </thead>\n",
       "  <tbody>\n",
       "    <tr>\n",
       "      <th>0</th>\n",
       "      <td>E</td>\n",
       "      <td>2023-04-22 13:09:12.653987</td>\n",
       "      <td>24.71</td>\n",
       "    </tr>\n",
       "    <tr>\n",
       "      <th>1</th>\n",
       "      <td>E</td>\n",
       "      <td>2023-04-22 13:09:13.405833</td>\n",
       "      <td>24.70</td>\n",
       "    </tr>\n",
       "    <tr>\n",
       "      <th>2</th>\n",
       "      <td>E</td>\n",
       "      <td>2023-04-22 13:09:14.158563</td>\n",
       "      <td>24.69</td>\n",
       "    </tr>\n",
       "    <tr>\n",
       "      <th>3</th>\n",
       "      <td>E</td>\n",
       "      <td>2023-04-22 13:09:14.659674</td>\n",
       "      <td>24.70</td>\n",
       "    </tr>\n",
       "    <tr>\n",
       "      <th>4</th>\n",
       "      <td>E</td>\n",
       "      <td>2023-04-22 13:09:14.910851</td>\n",
       "      <td>24.69</td>\n",
       "    </tr>\n",
       "    <tr>\n",
       "      <th>...</th>\n",
       "      <td>...</td>\n",
       "      <td>...</td>\n",
       "      <td>...</td>\n",
       "    </tr>\n",
       "    <tr>\n",
       "      <th>47636</th>\n",
       "      <td>E</td>\n",
       "      <td>2023-04-22 18:55:31.217356</td>\n",
       "      <td>34.19</td>\n",
       "    </tr>\n",
       "    <tr>\n",
       "      <th>47637</th>\n",
       "      <td>E</td>\n",
       "      <td>2023-04-22 18:55:31.468649</td>\n",
       "      <td>34.18</td>\n",
       "    </tr>\n",
       "    <tr>\n",
       "      <th>47638</th>\n",
       "      <td>E</td>\n",
       "      <td>2023-04-22 18:55:32.220356</td>\n",
       "      <td>34.16</td>\n",
       "    </tr>\n",
       "    <tr>\n",
       "      <th>47639</th>\n",
       "      <td>E</td>\n",
       "      <td>2023-04-22 18:55:32.471417</td>\n",
       "      <td>34.14</td>\n",
       "    </tr>\n",
       "    <tr>\n",
       "      <th>47640</th>\n",
       "      <td>E</td>\n",
       "      <td>2023-04-22 18:55:32.722088</td>\n",
       "      <td>34.12</td>\n",
       "    </tr>\n",
       "  </tbody>\n",
       "</table>\n",
       "<p>47641 rows × 3 columns</p>\n",
       "</div>"
      ],
      "text/plain": [
       "      sensor_type                    datetime  temperature\n",
       "0               E  2023-04-22 13:09:12.653987        24.71\n",
       "1               E  2023-04-22 13:09:13.405833        24.70\n",
       "2               E  2023-04-22 13:09:14.158563        24.69\n",
       "3               E  2023-04-22 13:09:14.659674        24.70\n",
       "4               E  2023-04-22 13:09:14.910851        24.69\n",
       "...           ...                         ...          ...\n",
       "47636           E  2023-04-22 18:55:31.217356        34.19\n",
       "47637           E  2023-04-22 18:55:31.468649        34.18\n",
       "47638           E  2023-04-22 18:55:32.220356        34.16\n",
       "47639           E  2023-04-22 18:55:32.471417        34.14\n",
       "47640           E  2023-04-22 18:55:32.722088        34.12\n",
       "\n",
       "[47641 rows x 3 columns]"
      ]
     },
     "execution_count": 63,
     "metadata": {},
     "output_type": "execute_result"
    }
   ],
   "source": [
    "pd.read_csv(EXTRUDER_TEMPERATURE)"
   ]
  },
  {
   "cell_type": "code",
   "execution_count": 66,
   "id": "e7192a2d-7adb-4eae-bbe6-d0115b8b6ff0",
   "metadata": {},
   "outputs": [],
   "source": [
    "# todo: read all data\n",
    "# find time when all are available\n",
    "# up/downsample\n"
   ]
  },
  {
   "cell_type": "code",
   "execution_count": null,
   "id": "fe5c27ac-d72b-457e-98a7-13c3333662b2",
   "metadata": {},
   "outputs": [],
   "source": []
  }
 ],
 "metadata": {
  "kernelspec": {
   "display_name": "Python 3 (ipykernel)",
   "language": "python",
   "name": "python3"
  },
  "language_info": {
   "codemirror_mode": {
    "name": "ipython",
    "version": 3
   },
   "file_extension": ".py",
   "mimetype": "text/x-python",
   "name": "python",
   "nbconvert_exporter": "python",
   "pygments_lexer": "ipython3",
   "version": "3.10.11"
  }
 },
 "nbformat": 4,
 "nbformat_minor": 5
}
