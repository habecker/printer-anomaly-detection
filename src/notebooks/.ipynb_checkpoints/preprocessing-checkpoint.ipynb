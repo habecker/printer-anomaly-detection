{
 "cells": [
  {
   "cell_type": "code",
   "execution_count": 11,
   "id": "8c109160-6f8c-4181-a8f4-ec8f289e0758",
   "metadata": {},
   "outputs": [
    {
     "name": "stdout",
     "output_type": "stream",
     "text": [
      "The autoreload extension is already loaded. To reload it, use:\n",
      "  %reload_ext autoreload\n"
     ]
    }
   ],
   "source": [
    "%load_ext autoreload\n",
    "%autoreload 2\n",
    "%matplotlib inline"
   ]
  },
  {
   "cell_type": "code",
   "execution_count": 12,
   "id": "1e86805a",
   "metadata": {},
   "outputs": [],
   "source": [
    "import json, gzip, glob\n",
    "import pandas as pd\n",
    "from pathlib import Path\n",
    "from typing import List\n",
    "from printer_anomaly_detection.dataset.domain.sensors import *\n",
    "from printer_anomaly_detection.dataset.domain.printer import *\n",
    "from dataclass_csv import DataclassWriter\n"
   ]
  },
  {
   "cell_type": "code",
   "execution_count": 57,
   "id": "6a800962",
   "metadata": {},
   "outputs": [],
   "source": [
    "FOLDER_NAME = 'hinges_12'\n",
    "NAME = Path(f'../../data/{FOLDER_NAME}/')\n",
    "SENSOR_TSV_FILE = next(NAME.glob('*.tsv.gz')) "
   ]
  },
  {
   "cell_type": "markdown",
   "id": "ca93db53",
   "metadata": {},
   "source": [
    "# Load sensordata"
   ]
  },
  {
   "cell_type": "code",
   "execution_count": 58,
   "id": "c20a4b4b",
   "metadata": {},
   "outputs": [],
   "source": [
    "\n",
    "sensor_data: List[IMUSensorData | GasSensorData] = list()\n",
    "index = None\n",
    "with gzip.open(SENSOR_TSV_FILE, 'rb') as f:\n",
    "    for line in f:\n",
    "        data = line.decode('ascii')\n",
    "        data = data.split('\\t')\n",
    "        datetime_ = data[0]\n",
    "        datetime_ = datetime.fromisoformat(datetime_)\n",
    "\n",
    "        try:\n",
    "            sensor_type = SensorType(data[1])\n",
    "        except ValueError:\n",
    "            continue\n",
    "\n",
    "        if sensor_type in {SensorType.ACCELEROMETER, SensorType.MAGNETOMETER, SensorType.GYROSCOPE}:\n",
    "            sensor_data.append(\n",
    "                IMUSensorData(\n",
    "                    sensor_type=sensor_type,\n",
    "                    datetime=datetime_,\n",
    "                    x = float(data[2]),\n",
    "                    y = float(data[3]),\n",
    "                    z = float(data[4])\n",
    "                )\n",
    "            )\n",
    "            pass\n",
    "        elif sensor_type == SensorType.GAS:\n",
    "            sensor_data.append(\n",
    "                GasSensorData(\n",
    "                    sensor_type=sensor_type,\n",
    "                    datetime=datetime_,\n",
    "                    value=float(data[2])\n",
    "                )\n",
    "            )\n",
    "        else:\n",
    "            raise Exception(\"Invalid sensor type\")"
   ]
  },
  {
   "cell_type": "code",
   "execution_count": 15,
   "id": "82b85628-b153-4255-937b-34abe5b29779",
   "metadata": {},
   "outputs": [],
   "source": [
    "imu = filter(lambda d: isinstance(d, IMUSensorData), sensor_data)\n",
    "gas = filter(lambda d: isinstance(d, GasSensorData), sensor_data)"
   ]
  },
  {
   "cell_type": "markdown",
   "id": "bf6e9864",
   "metadata": {},
   "source": [
    "# Load printer_data"
   ]
  },
  {
   "cell_type": "code",
   "execution_count": 16,
   "id": "ec8349f3",
   "metadata": {},
   "outputs": [],
   "source": [
    "DATA_NAME = next(NAME.glob('*_klipper.json.gz'))\n",
    "DATA_NAME = DATA_NAME.name[:-len('.json.gz')]"
   ]
  },
  {
   "cell_type": "code",
   "execution_count": 17,
   "id": "9f070db3-ee66-4a4c-a6d2-339c10239a40",
   "metadata": {},
   "outputs": [],
   "source": [
    "from datetime import timedelta"
   ]
  },
  {
   "cell_type": "code",
   "execution_count": 18,
   "id": "6e7e8d1b",
   "metadata": {},
   "outputs": [],
   "source": [
    "index = None\n",
    "with gzip.open(f'{NAME / DATA_NAME}.index.gz', 'rb') as f:\n",
    "    index = f.read()\n",
    "    index = index.split('\\x03'.encode('ascii'))\n",
    "    index = filter(lambda i: len(i) > 0, index)\n",
    "    index = [json.loads(i) for i in index]"
   ]
  },
  {
   "cell_type": "code",
   "execution_count": 19,
   "id": "84db47b7",
   "metadata": {},
   "outputs": [],
   "source": [
    "data = None\n",
    "with gzip.open(f'{NAME / DATA_NAME}.json.gz', 'rb') as f:\n",
    "    data = f.read()\n",
    "    data = data.split('\\x03'.encode('ascii'))\n",
    "    data = filter(lambda i: len(i) > 0, data)\n",
    "    data = [json.loads(i) for i in data]"
   ]
  },
  {
   "cell_type": "code",
   "execution_count": 20,
   "id": "17264870-14f3-4507-a0ab-0c1978298e20",
   "metadata": {},
   "outputs": [],
   "source": [
    "prev = 0\n",
    "for d in filter(lambda d: 'q' in d and 'eventtime' in d['params'], data):\n",
    "  eventtime = d['params']['eventtime']\n",
    "  assert eventtime > prev\n",
    "  prev = eventtime"
   ]
  },
  {
   "cell_type": "code",
   "execution_count": 25,
   "id": "268c2a8d-1e86-4be9-93d0-62eb3254e4f3",
   "metadata": {},
   "outputs": [],
   "source": [
    "datetimestr = DATA_NAME[:-len('_klipper')]\n",
    "printer_start_time: datetime = datetime.strptime(datetimestr[:-len('000Z')], '%Y-%m-%dT%H%M%S%f')\n",
    "printer_time_offset = -next(filter(lambda d: 'q' in d, data))['params']['eventtime']"
   ]
  },
  {
   "cell_type": "code",
   "execution_count": 26,
   "id": "42f17d95-8509-445e-bbce-b4783f334290",
   "metadata": {},
   "outputs": [],
   "source": [
    "from typing import Tuple, List, Dict, Set"
   ]
  },
  {
   "cell_type": "code",
   "execution_count": 27,
   "id": "df32f641",
   "metadata": {},
   "outputs": [],
   "source": [
    "def get_field(field_name: str, data, printer_start_time, printer_time_delta) -> List[Tuple[datetime, Dict]]:\n",
    "    def _f(row):\n",
    "        if 'q' not in row or row['q'] != 'status':\n",
    "            return False\n",
    "        return field_name in row['params']['status']\n",
    "\n",
    "    def _m(row):\n",
    "        tdelta = timedelta(seconds=(row['params']['eventtime'] + printer_time_offset))\n",
    "        return printer_start_time + tdelta, row['params']['status'][field_name]\n",
    "    \n",
    "    return list(map(_m, filter(_f, data)))"
   ]
  },
  {
   "cell_type": "code",
   "execution_count": 28,
   "id": "e707c02a-99e9-41ae-9c8f-ce8d16a5f32c",
   "metadata": {},
   "outputs": [],
   "source": [
    "def get_keys(d: Dict) -> Set[str]:\n",
    "  keys = d.keys()\n",
    "  for k in keys:\n",
    "    if isinstance(d[k], dict):\n",
    "      keys |= map(lambda i: f'{k}.{i}', get_keys(d[k]))\n",
    "  return keys"
   ]
  },
  {
   "cell_type": "code",
   "execution_count": 31,
   "id": "a9600dd9-4fd3-4b85-98d7-88223d114f6e",
   "metadata": {},
   "outputs": [],
   "source": [
    "def get_all_keys(field_name: str, data, printer_start_time, printer_time_delta):\n",
    "  keys = set()\n",
    "  for d in get_field(field_name, data, printer_start_time, printer_time_delta):\n",
    "    new_keys = get_keys(d[1])\n",
    "    \n",
    "    keys |= new_keys\n",
    "    \n",
    "  return keys"
   ]
  },
  {
   "cell_type": "markdown",
   "id": "510180bb-63b0-49f6-a6a6-7da652287ae1",
   "metadata": {},
   "source": [
    "## Fields:\n",
    "* heater_bed\n",
    "* tmc2209 stepper_x\n",
    "* tmc2209 stepper_y\n",
    "* tmc2209 stepper_z\n",
    "* tmc2209 extruder\n",
    "* mcu\n",
    "* extruder\n",
    "* motion_report\n",
    "* gcode_move\n"
   ]
  },
  {
   "cell_type": "markdown",
   "id": "7885586c-80f9-4595-bca4-804826a19069",
   "metadata": {},
   "source": [
    "## Heater"
   ]
  },
  {
   "cell_type": "code",
   "execution_count": 33,
   "id": "0675ebf4-79e1-406e-b177-17061e3c8942",
   "metadata": {},
   "outputs": [
    {
     "data": {
      "text/plain": [
       "{'power', 'target', 'temperature'}"
      ]
     },
     "execution_count": 33,
     "metadata": {},
     "output_type": "execute_result"
    }
   ],
   "source": [
    "get_all_keys('heater_bed', data, printer_start_time, printer_time_offset)"
   ]
  },
  {
   "cell_type": "code",
   "execution_count": 34,
   "id": "2f22d4f2-c71b-4a21-8f60-b1b04271101d",
   "metadata": {
    "scrolled": true
   },
   "outputs": [],
   "source": [
    "heater_data = get_field('heater_bed', data, printer_start_time, printer_time_offset)"
   ]
  },
  {
   "cell_type": "code",
   "execution_count": 35,
   "id": "b7692dd4-9582-4fba-8aa2-65fb60eca0a9",
   "metadata": {},
   "outputs": [],
   "source": [
    "heater_target = map(\n",
    "  lambda d: TargetData(SensorType.HEATER, datetime=d[0], target=d[1]['target']),\n",
    "  filter(lambda d: 'target' in d[1], heater_data)\n",
    ")\n",
    "\n",
    "heater_power = map(\n",
    "  lambda d: PowerSensorData(SensorType.HEATER, datetime=d[0], power=d[1]['power']),\n",
    "  filter(lambda d: 'power' in d[1], heater_data)\n",
    ")\n",
    "\n",
    "heater_temperature = map(\n",
    "  lambda d: TemperatureSensorData(SensorType.HEATER, datetime=d[0], temperature=d[1]['temperature']),\n",
    "  filter(lambda d: 'temperature' in d[1], heater_data)\n",
    ")"
   ]
  },
  {
   "cell_type": "markdown",
   "id": "4496a078-f437-4450-9e33-f4bd51139b56",
   "metadata": {},
   "source": [
    "## Motordriver"
   ]
  },
  {
   "cell_type": "code",
   "execution_count": 37,
   "id": "4834984e-187f-4144-b905-f05c320fc0be",
   "metadata": {},
   "outputs": [
    {
     "data": {
      "text/plain": [
       "{'drv_status',\n",
       " 'drv_status.cs_actual',\n",
       " 'drv_status.ola',\n",
       " 'drv_status.olb',\n",
       " 'drv_status.stealth',\n",
       " 'drv_status.stst',\n",
       " 'mcu_phase_offset',\n",
       " 'phase_offset_position'}"
      ]
     },
     "execution_count": 37,
     "metadata": {},
     "output_type": "execute_result"
    }
   ],
   "source": [
    "get_all_keys('tmc2209 stepper_x', data, printer_start_time, printer_time_offset)\n",
    "get_all_keys('tmc2209 stepper_y', data, printer_start_time, printer_time_offset)\n",
    "get_all_keys('tmc2209 stepper_z', data, printer_start_time, printer_time_offset)\n",
    "get_all_keys('tmc2209 extruder', data, printer_start_time, printer_time_offset)"
   ]
  },
  {
   "cell_type": "markdown",
   "id": "4ae29f74-6760-445e-ae1b-d830486ef217",
   "metadata": {},
   "source": [
    "## MCU"
   ]
  },
  {
   "cell_type": "code",
   "execution_count": 38,
   "id": "3c048466-43fe-4755-bf62-30fcd8d1fd55",
   "metadata": {},
   "outputs": [
    {
     "name": "stdout",
     "output_type": "stream",
     "text": [
      "{'last_stats.bytes_write', 'last_stats.ready_bytes', 'last_stats.mcu_awake', 'last_stats', 'last_stats.send_seq', 'last_stats.rttvar', 'last_stats.rto', 'last_stats.bytes_retransmit', 'last_stats.receive_seq', 'last_stats.mcu_task_stddev', 'last_stats.upcoming_bytes', 'last_stats.retransmit_seq', 'last_stats.bytes_read', 'last_stats.srtt', 'last_stats.mcu_task_avg', 'last_stats.freq', 'last_stats.bytes_invalid'}\n"
     ]
    }
   ],
   "source": [
    "print(get_all_keys('mcu', data, printer_start_time, printer_time_offset))\n"
   ]
  },
  {
   "cell_type": "code",
   "execution_count": 21,
   "id": "b2de47c5-f112-4c7b-bf3d-d09685648e66",
   "metadata": {},
   "outputs": [],
   "source": [
    "    upcoming_bytes: int\n",
    "    srtt: float\n",
    "    bytes_invalid: int\n",
    "    send_seq: int\n",
    "    retransmit_seq: int\n",
    "    rttvar: float\n",
    "    rto: float\n",
    "    bytes_retransmit: int\n",
    "    bytes_write: int\n",
    "    ready_bytes: int\n",
    "    freq: int\n",
    "    receive_seq: int"
   ]
  },
  {
   "cell_type": "code",
   "execution_count": 39,
   "id": "0e72dd4a-cbca-4423-8c6b-13b496879fe5",
   "metadata": {},
   "outputs": [],
   "source": [
    "mcu_data = get_field('mcu', data, printer_start_time, printer_time_offset)"
   ]
  },
  {
   "cell_type": "code",
   "execution_count": 40,
   "id": "e82ba853-8e06-484f-af32-1034c1374f88",
   "metadata": {},
   "outputs": [],
   "source": [
    "mcu = map(\n",
    "  lambda d: MCUData(\n",
    "    SensorType.MCU,\n",
    "    datetime=d[0],\n",
    "    upcoming_bytes=d[1]['last_stats']['upcoming_bytes'],\n",
    "    srtt=d[1]['last_stats']['srtt'],\n",
    "    bytes_invalid=d[1]['last_stats']['bytes_invalid'],\n",
    "    send_seq=d[1]['last_stats']['send_seq'],\n",
    "    retransmit_seq=d[1]['last_stats']['retransmit_seq'],\n",
    "    rttvar=d[1]['last_stats']['rttvar'],\n",
    "    rto=d[1]['last_stats']['rto'],\n",
    "    bytes_retransmit=d[1]['last_stats']['bytes_retransmit'],\n",
    "    bytes_write=d[1]['last_stats']['bytes_write'],\n",
    "    ready_bytes=d[1]['last_stats']['ready_bytes'],\n",
    "    freq=d[1]['last_stats']['freq'],\n",
    "    receive_seq=d[1]['last_stats']['receive_seq']),\n",
    "  mcu_data\n",
    ")"
   ]
  },
  {
   "cell_type": "markdown",
   "id": "981abaca-f917-4652-af31-83193c0c45db",
   "metadata": {},
   "source": [
    "## Extruder"
   ]
  },
  {
   "cell_type": "code",
   "execution_count": 41,
   "id": "dd485333-db3f-400f-9ca1-f92804581bf0",
   "metadata": {},
   "outputs": [
    {
     "name": "stdout",
     "output_type": "stream",
     "text": [
      "{'temperature', 'can_extrude', 'target', 'power'}\n"
     ]
    }
   ],
   "source": [
    "print(get_all_keys('extruder', data, printer_start_time, printer_time_offset))"
   ]
  },
  {
   "cell_type": "code",
   "execution_count": 42,
   "id": "63a140a3-1020-4df0-9432-9363e45441f0",
   "metadata": {},
   "outputs": [],
   "source": [
    "extruder_data = get_field('extruder', data, printer_start_time, printer_time_offset)"
   ]
  },
  {
   "cell_type": "code",
   "execution_count": 43,
   "id": "94671afa-90a1-461a-b01a-561368a360ae",
   "metadata": {},
   "outputs": [],
   "source": [
    "extruder_target = map(\n",
    "  lambda d: TargetData(SensorType.EXTRUDER, datetime=d[0], target=d[1]['target']),\n",
    "  filter(lambda d: 'target' in d[1], extruder_data)\n",
    ")\n",
    "\n",
    "extruder_power = map(\n",
    "  lambda d: PowerSensorData(SensorType.EXTRUDER, datetime=d[0], power=d[1]['power']),\n",
    "  filter(lambda d: 'power' in d[1], extruder_data)\n",
    ")\n",
    "\n",
    "extruder_temperature = map(\n",
    "  lambda d: TemperatureSensorData(SensorType.EXTRUDER, datetime=d[0], temperature=d[1]['temperature']),\n",
    "  filter(lambda d: 'temperature' in d[1], extruder_data)\n",
    ")"
   ]
  },
  {
   "cell_type": "markdown",
   "id": "da6251e7-f35a-437e-8990-5bf60eda8707",
   "metadata": {},
   "source": [
    "## Motion report"
   ]
  },
  {
   "cell_type": "code",
   "execution_count": 44,
   "id": "0f466fc5-1260-4385-8d7e-7b076cd0334f",
   "metadata": {},
   "outputs": [
    {
     "name": "stdout",
     "output_type": "stream",
     "text": [
      "{'live_position', 'live_velocity', 'live_extruder_velocity'}\n"
     ]
    }
   ],
   "source": [
    "print(get_all_keys('motion_report', data, printer_start_time, printer_time_offset))"
   ]
  },
  {
   "cell_type": "code",
   "execution_count": 45,
   "id": "22c86af3-800e-4310-a816-687c2aa1fb45",
   "metadata": {},
   "outputs": [],
   "source": [
    "motion_report_data = get_field('motion_report', data, printer_start_time, printer_time_offset)"
   ]
  },
  {
   "cell_type": "code",
   "execution_count": 46,
   "id": "528259dd-90e5-4b0f-b6e1-322fa643bf26",
   "metadata": {},
   "outputs": [],
   "source": [
    "position_sensor = map(\n",
    "  lambda d: PositionSensorData(\n",
    "    SensorType.MOTION,\n",
    "    datetime=d[0],\n",
    "    x=d[1]['live_position'][0],\n",
    "    y=d[1]['live_position'][1],\n",
    "    z=d[1]['live_position'][2],\n",
    "    e=d[1]['live_position'][3],\n",
    "  ),\n",
    "  filter(lambda d: 'live_position' in d[1], motion_report_data)\n",
    ")"
   ]
  },
  {
   "cell_type": "code",
   "execution_count": 47,
   "id": "a0b3f051-8605-4c79-a1c1-4098fd010154",
   "metadata": {},
   "outputs": [],
   "source": [
    "velocity_sensor = map(\n",
    "  lambda d: VelocitySensorData(\n",
    "    SensorType.MOTION,\n",
    "    datetime=d[0],\n",
    "    velocity=d[1]['live_velocity'],\n",
    "  ),\n",
    "  filter(lambda d: 'live_velocity' in d[1], motion_report_data)\n",
    ")"
   ]
  },
  {
   "cell_type": "code",
   "execution_count": 48,
   "id": "53f81771-12bb-4b88-ba3e-1431a01bc342",
   "metadata": {},
   "outputs": [],
   "source": [
    "extruder_velocity_sensor = map(\n",
    "  lambda d: VelocitySensorData(\n",
    "    SensorType.EXTRUDER,\n",
    "    datetime=d[0],\n",
    "    velocity=d[1]['live_extruder_velocity'],\n",
    "  ),\n",
    "  filter(lambda d: 'live_extruder_velocity' in d[1], motion_report_data)\n",
    ")"
   ]
  },
  {
   "cell_type": "markdown",
   "id": "51ea5dbb-7f02-4486-943d-f0d07425a96d",
   "metadata": {},
   "source": [
    "# Motion Target / GCode"
   ]
  },
  {
   "cell_type": "code",
   "execution_count": 49,
   "id": "017693aa-5ed8-4330-89cd-f7a5ebf19ba9",
   "metadata": {},
   "outputs": [
    {
     "name": "stdout",
     "output_type": "stream",
     "text": [
      "{'speed', 'position', 'absolute_coordinates', 'gcode_position'}\n"
     ]
    }
   ],
   "source": [
    "print(get_all_keys('gcode_move', data, printer_start_time, printer_time_offset))"
   ]
  },
  {
   "cell_type": "code",
   "execution_count": 50,
   "id": "4f71551e-e8d0-47fe-8e90-c76b880b00ff",
   "metadata": {},
   "outputs": [],
   "source": [
    "gcode_data = get_field('gcode_move', data, printer_start_time, printer_time_offset)"
   ]
  },
  {
   "cell_type": "code",
   "execution_count": 51,
   "id": "d9d9be7b-1281-4341-8583-5b0a71dbec86",
   "metadata": {},
   "outputs": [],
   "source": [
    "position_target = map(\n",
    "  lambda d: PositionTargetData(\n",
    "    SensorType.MOTION,\n",
    "    datetime=d[0],\n",
    "    x=d[1]['position'][0],\n",
    "    y=d[1]['position'][1],\n",
    "    z=d[1]['position'][2],\n",
    "    e=d[1]['position'][3],\n",
    "  ),\n",
    "  filter(lambda d: 'position' in d[1], gcode_data)\n",
    ")"
   ]
  },
  {
   "cell_type": "code",
   "execution_count": 52,
   "id": "783bc5da-0444-41c0-985b-a25a97926446",
   "metadata": {},
   "outputs": [],
   "source": [
    "velocity_target = map(\n",
    "  lambda d: VelocityTargetData(\n",
    "    SensorType.MOTION,\n",
    "    datetime=d[0],\n",
    "    velocity=d[1]['speed'],\n",
    "  ),\n",
    "  filter(lambda d: 'speed' in d[1], gcode_data)\n",
    ")"
   ]
  },
  {
   "cell_type": "markdown",
   "id": "56440c9b-e197-4796-b3f4-874464b00696",
   "metadata": {},
   "source": [
    "# Now save everything"
   ]
  },
  {
   "cell_type": "code",
   "execution_count": 5,
   "id": "fecf075a-edfc-4ef6-8a63-8612ca13cc08",
   "metadata": {},
   "outputs": [],
   "source": [
    "DATASET_NAME = Path(f'../../datasets/{FOLDER_NAME}/')\n",
    "DATASET_NAME.mkdir(parents=True, exist_ok=True)"
   ]
  },
  {
   "cell_type": "code",
   "execution_count": 37,
   "id": "40d9f304-311d-4eab-adab-24ae6aa227e7",
   "metadata": {},
   "outputs": [],
   "source": [
    "everything = zip(['imu',\n",
    "'gas',\n",
    "'heater_target',\n",
    "'heater_power',\n",
    "'heater_temperature',\n",
    "'mcu',\n",
    "'extruder_target',\n",
    "'extruder_power',\n",
    "'extruder_temperature',\n",
    "'position_sensor',\n",
    "'velocity_sensor',\n",
    "'extruder_velocity_sensor',\n",
    "'position_target',\n",
    "'velocity_target'], [imu,\n",
    "gas,\n",
    "heater_target,\n",
    "heater_power,\n",
    "heater_temperature,\n",
    "mcu,\n",
    "extruder_target,\n",
    "extruder_power,\n",
    "extruder_temperature,\n",
    "position_sensor,\n",
    "velocity_sensor,\n",
    "extruder_velocity_sensor,\n",
    "position_target,\n",
    "velocity_target], [\n",
    "  IMUSensorData,\n",
    "  GasSensorData,\n",
    "  TargetData,\n",
    "  PowerSensorData,\n",
    "  TemperatureSensorData,\n",
    "  MCUData,\n",
    "  TargetData,\n",
    "  PowerSensorData,\n",
    "  TemperatureSensorData,\n",
    "  PositionSensorData,\n",
    "  VelocitySensorData,\n",
    "  VelocitySensorData,\n",
    "  PositionTargetData,\n",
    "  VelocityTargetData\n",
    "])"
   ]
  },
  {
   "cell_type": "code",
   "execution_count": 38,
   "id": "d60a7ae9-9bf4-42ad-9176-d4747b9a8168",
   "metadata": {},
   "outputs": [
    {
     "name": "stdout",
     "output_type": "stream",
     "text": [
      "imu <filter object at 0x12bb99900>\n",
      "gas <filter object at 0x12bb9b070>\n",
      "heater_target <map object at 0x2e0f6a920>\n",
      "heater_power <map object at 0x2e0f68e50>\n",
      "heater_temperature <map object at 0x2e0f69000>\n",
      "mcu <map object at 0x2e11aa410>\n",
      "extruder_target <map object at 0x2e16f2710>\n",
      "extruder_power <map object at 0x2e16f0ca0>\n",
      "extruder_temperature <map object at 0x2e16f0e50>\n",
      "position_sensor <map object at 0x12bb9ae60>\n",
      "velocity_sensor <map object at 0x2e1f6fe50>\n",
      "extruder_velocity_sensor <map object at 0x2e1f6f820>\n",
      "position_target <map object at 0x2e2427340>\n",
      "velocity_target <map object at 0x2e2427f10>\n"
     ]
    }
   ],
   "source": [
    "for name, sensor, cls in everything:\n",
    "  print(name, sensor)\n",
    "  with gzip.open(DATASET_NAME / f'{name}.csv.gz', 'wt') as f:\n",
    "    writer = DataclassWriter(f, list(sensor), cls)\n",
    "    writer.write()"
   ]
  },
  {
   "cell_type": "markdown",
   "id": "f74ae015-e9c2-480a-a016-9c2516a4a767",
   "metadata": {},
   "source": [
    "# Video"
   ]
  },
  {
   "cell_type": "code",
   "execution_count": 62,
   "id": "013c630b-d020-4fdb-b8ba-95a3029357ed",
   "metadata": {},
   "outputs": [],
   "source": [
    "from ffmpeg import FFmpeg"
   ]
  },
  {
   "cell_type": "code",
   "execution_count": 64,
   "id": "a8165e30-6180-42b1-a0fb-0a6d437b72fb",
   "metadata": {},
   "outputs": [
    {
     "ename": "NameError",
     "evalue": "name 'fix' is not defined",
     "output_type": "error",
     "traceback": [
      "\u001b[0;31m---------------------------------------------------------------------------\u001b[0m",
      "\u001b[0;31mNameError\u001b[0m                                 Traceback (most recent call last)",
      "Cell \u001b[0;32mIn[64], line 1\u001b[0m\n\u001b[0;32m----> 1\u001b[0m DATA_NAME\n",
      "File \u001b[0;32m~/projects/personal/printer-anomaly-detection/.venv/lib/python3.10/site-packages/IPython/core/displayhook.py:268\u001b[0m, in \u001b[0;36mDisplayHook.__call__\u001b[0;34m(self, result)\u001b[0m\n\u001b[1;32m    266\u001b[0m \u001b[38;5;28mself\u001b[39m\u001b[38;5;241m.\u001b[39mstart_displayhook()\n\u001b[1;32m    267\u001b[0m \u001b[38;5;28mself\u001b[39m\u001b[38;5;241m.\u001b[39mwrite_output_prompt()\n\u001b[0;32m--> 268\u001b[0m format_dict, md_dict \u001b[38;5;241m=\u001b[39m \u001b[38;5;28;43mself\u001b[39;49m\u001b[38;5;241;43m.\u001b[39;49m\u001b[43mcompute_format_data\u001b[49m\u001b[43m(\u001b[49m\u001b[43mresult\u001b[49m\u001b[43m)\u001b[49m\n\u001b[1;32m    269\u001b[0m \u001b[38;5;28mself\u001b[39m\u001b[38;5;241m.\u001b[39mupdate_user_ns(result)\n\u001b[1;32m    270\u001b[0m \u001b[38;5;28mself\u001b[39m\u001b[38;5;241m.\u001b[39mfill_exec_result(result)\n",
      "File \u001b[0;32m~/projects/personal/printer-anomaly-detection/.venv/lib/python3.10/site-packages/IPython/core/displayhook.py:157\u001b[0m, in \u001b[0;36mDisplayHook.compute_format_data\u001b[0;34m(self, result)\u001b[0m\n\u001b[1;32m    127\u001b[0m \u001b[38;5;28;01mdef\u001b[39;00m \u001b[38;5;21mcompute_format_data\u001b[39m(\u001b[38;5;28mself\u001b[39m, result):\n\u001b[1;32m    128\u001b[0m \u001b[38;5;250m    \u001b[39m\u001b[38;5;124;03m\"\"\"Compute format data of the object to be displayed.\u001b[39;00m\n\u001b[1;32m    129\u001b[0m \n\u001b[1;32m    130\u001b[0m \u001b[38;5;124;03m    The format data is a generalization of the :func:`repr` of an object.\u001b[39;00m\n\u001b[0;32m   (...)\u001b[0m\n\u001b[1;32m    155\u001b[0m \n\u001b[1;32m    156\u001b[0m \u001b[38;5;124;03m    \"\"\"\u001b[39;00m\n\u001b[0;32m--> 157\u001b[0m     \u001b[38;5;28;01mreturn\u001b[39;00m \u001b[38;5;28;43mself\u001b[39;49m\u001b[38;5;241;43m.\u001b[39;49m\u001b[43mshell\u001b[49m\u001b[38;5;241;43m.\u001b[39;49m\u001b[43mdisplay_formatter\u001b[49m\u001b[38;5;241;43m.\u001b[39;49m\u001b[43mformat\u001b[49m\u001b[43m(\u001b[49m\u001b[43mresult\u001b[49m\u001b[43m)\u001b[49m\n",
      "File \u001b[0;32m~/projects/personal/printer-anomaly-detection/.venv/lib/python3.10/site-packages/IPython/core/formatters.py:145\u001b[0m, in \u001b[0;36mDisplayFormatter.format\u001b[0;34m(self, obj, include, exclude)\u001b[0m\n\u001b[1;32m    142\u001b[0m format_dict \u001b[38;5;241m=\u001b[39m {}\n\u001b[1;32m    143\u001b[0m md_dict \u001b[38;5;241m=\u001b[39m {}\n\u001b[0;32m--> 145\u001b[0m \u001b[38;5;28;01mif\u001b[39;00m \u001b[38;5;28;43mself\u001b[39;49m\u001b[38;5;241;43m.\u001b[39;49m\u001b[43mipython_display_formatter\u001b[49m\u001b[43m(\u001b[49m\u001b[43mobj\u001b[49m\u001b[43m)\u001b[49m:\n\u001b[1;32m    146\u001b[0m     \u001b[38;5;66;03m# object handled itself, don't proceed\u001b[39;00m\n\u001b[1;32m    147\u001b[0m     \u001b[38;5;28;01mreturn\u001b[39;00m {}, {}\n\u001b[1;32m    149\u001b[0m format_dict, md_dict \u001b[38;5;241m=\u001b[39m \u001b[38;5;28mself\u001b[39m\u001b[38;5;241m.\u001b[39mmimebundle_formatter(obj, include\u001b[38;5;241m=\u001b[39minclude, exclude\u001b[38;5;241m=\u001b[39mexclude)\n",
      "File \u001b[0;32m~/projects/personal/printer-anomaly-detection/.venv/lib/python3.10/site-packages/decorator.py:231\u001b[0m, in \u001b[0;36mfun\u001b[0;34m(*args, **kw)\u001b[0m\n\u001b[1;32m    225\u001b[0m \u001b[38;5;250m\u001b[39m\u001b[38;5;124;03m\"\"\"\u001b[39;00m\n\u001b[1;32m    226\u001b[0m \u001b[38;5;124;03mdecorate(func, caller) decorates a function using a caller.\u001b[39;00m\n\u001b[1;32m    227\u001b[0m \u001b[38;5;124;03mIf the caller is a generator function, the resulting function\u001b[39;00m\n\u001b[1;32m    228\u001b[0m \u001b[38;5;124;03mwill be a generator function.\u001b[39;00m\n\u001b[1;32m    229\u001b[0m \u001b[38;5;124;03m\"\"\"\u001b[39;00m\n\u001b[1;32m    230\u001b[0m evaldict \u001b[38;5;241m=\u001b[39m \u001b[38;5;28mdict\u001b[39m(_call_\u001b[38;5;241m=\u001b[39mcaller, _func_\u001b[38;5;241m=\u001b[39mfunc)\n\u001b[0;32m--> 231\u001b[0m es \u001b[38;5;241m=\u001b[39m \u001b[38;5;124m'\u001b[39m\u001b[38;5;124m'\u001b[39m\n\u001b[1;32m    232\u001b[0m \u001b[38;5;28;01mfor\u001b[39;00m i, extra \u001b[38;5;129;01min\u001b[39;00m \u001b[38;5;28menumerate\u001b[39m(extras):\n\u001b[1;32m    233\u001b[0m     ex \u001b[38;5;241m=\u001b[39m \u001b[38;5;124m'\u001b[39m\u001b[38;5;124m_e\u001b[39m\u001b[38;5;132;01m%d\u001b[39;00m\u001b[38;5;124m_\u001b[39m\u001b[38;5;124m'\u001b[39m \u001b[38;5;241m%\u001b[39m i\n",
      "\u001b[0;31mNameError\u001b[0m: name 'fix' is not defined"
     ]
    }
   ],
   "source": [
    "DATA_NAME"
   ]
  },
  {
   "cell_type": "code",
   "execution_count": null,
   "id": "12f3d267-e5d0-4eb8-8290-9b59688ff8db",
   "metadata": {},
   "outputs": [],
   "source": []
  }
 ],
 "metadata": {
  "kernelspec": {
   "display_name": "Python 3 (ipykernel)",
   "language": "python",
   "name": "python3"
  },
  "language_info": {
   "codemirror_mode": {
    "name": "ipython",
    "version": 3
   },
   "file_extension": ".py",
   "mimetype": "text/x-python",
   "name": "python",
   "nbconvert_exporter": "python",
   "pygments_lexer": "ipython3",
   "version": "3.10.11"
  }
 },
 "nbformat": 4,
 "nbformat_minor": 5
}
